{
 "cells": [
  {
   "attachments": {},
   "cell_type": "markdown",
   "id": "02f76e55-3d57-41bb-97e4-46531fc68e3d",
   "metadata": {},
   "source": [
    "# Training TensorFlow 2 Models on an IPU using Paperspace Gradient\n",
    "\n",
    "The notebooks in this runtime are designed to help you solve the problems you face, by leveraging the power of deep learning and the speed of the Graphcore IPU. \n",
    "\n",
    "These examples will show you how to use and train TensorFlow 2 models which run on Graphcore IPUs using the Paperspace Gradient environment. \n",
    "\n",
    "## The models\n",
    "\n",
    "To help you get started, we have some real-world application examples.\n",
    "\n",
    "You will be able to run one of our two models that won first place in the [Open Graph Benchmark Large-Scale Challenge](https://ogb.stanford.edu/neurips2022/). For more information on how this was achieved, see our blog post: \n",
    "[Dou‌ble Win for‌ G‌‍r‌‍ap‌‍hc‌‍o‌‍r‌e in Op‌en Graph B‌enchmar‌k Challenge](https://www.graphcore.ai/posts/graphcore-claims-double-win-in-open-graph-benchmark-challenge).\n",
    "\n",
    "You can then learn how to use an IPU in a Jupyter-style notebook to train a Cluster-GCN model on the ArXiv text dataset. Finally, we have some more detailed tutorials on using TensorFlow 2 on the IPU.\n",
    "\n",
    "These worked examples will help you get started running your application on the IPU. For more information see the [Graphcore TensorFlow documentation](https://docs.graphcore.ai/projects/tensorflow-user-guide/) and our [technical notes](https://docs.graphcore.ai/en/latest/technotes.html#technical-notes).\n",
    "\n",
    "## Getting started\n",
    "\n",
    "The Paperspace environment lets you run these notebook with no special set up.\n",
    "\n",
    "## Winning performance\n",
    "\n",
    "We start with the one of models that took the first place position in the [Open Graph Benchmark Large-Scale Challenge](https://ogb.stanford.edu/neurips2022/): PCQM4Mv2 — Predicting a quantum property of molecular graphs \n",
    "\n",
    "[PCQM4Mv2](https://ogb.stanford.edu/docs/lsc/pcqm4mv2/) defines a molecular property prediction problem that involves building a Graph Neural Network to predict the HOMO-LUMO energy gap (a quantum chemistry property) given a dataset of 3.4 million labelled molecules. \n",
    "\n",
    "The inference notebook, \n",
    "[Prediction of molecular properties using GPS++ on IPUs](ogb-competition/gps++_inference.ipynb),\n",
    "demonstrates inference on a single sample and on the entire test-challenge dataset split using the model we used for our OGB-LSC PCQM4Mv2 submission.\n",
    "\n",
    "The training notebook,\n",
    "[Training for Molecular Property Prediction](ogb-competition/gps++_training.ipynb),\n",
    "demonstrates how to run training for the GPS++ model architecture we used for our OGB-LSC PCQM4Mv2 submission.\n",
    "\n",
    "## Cluster-GCN model\n",
    "\n",
    "The [Training Large Graphs Efficiently with Cluster-GCN](gnn-cluster-gcn/run_cluster_gcn_notebook.ipynb) notebook show how to train the Cluster-GCN algorithm, presented in [Cluster-GCN: An Efficient Algorithm for Training Deep and Large Graph Convolutional Networks](https://arxiv.org/pdf/1905.07953.pdf), on the Graphcore IPU.\n",
    "\n",
    "This tutorial walks you through loading the data, configuring the IPU, creating a strategy and the model, and finally training and testing the model.\n",
    "\n",
    "## Extra tutorials\n",
    "\n",
    "The [learning-TensorFlow2-on-IPU](learning-TensorFlow2-on-IPU) folder contains some extra tutorial material to help make better use of IPUs when running your TensorFlow applications. \n",
    "\n",
    "* The [Keras tutorial](learning-TensorFlow2-on-IPU/keras/demo.ipynb) shows you how to run Keras models on IPUs and make use of the features that will allow you to fully utilise the capability of the IPU.\n",
    "\n",
    "* The tutorial [Training a simple TensorFlow 2 model on MNIST](learning-TensorFlow2-on-IPU/mnist/mnist.ipynb) shows how to train a simple model using the MNIST numerical dataset on a single IPU using Keras.\n",
    "\n",
    "* TensorBoard is a visualization tool provided with TensorFlow that provides a platform to view many aspects of model training and inference at near real-time intervals. The tutorial [Using TensorBoard in TensorFlow 2](learning-TensorFlow2-on-IPU/tensorboard/demo.ipynb) demonstrates how to use TensorBoard to analyse your application running on the IPU\n",
    "\n",
    "\n"
   ]
  }
 ],
 "metadata": {
  "kernelspec": {
   "display_name": "Python 3",
   "language": "python",
   "name": "python3"
  },
  "language_info": {
   "codemirror_mode": {
    "name": "ipython",
    "version": 3
   },
   "file_extension": ".py",
   "mimetype": "text/x-python",
   "name": "python",
   "nbconvert_exporter": "python",
   "pygments_lexer": "ipython3",
   "version": "3.8.10"
  }
 },
 "nbformat": 4,
 "nbformat_minor": 5
}
