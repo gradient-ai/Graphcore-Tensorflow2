{
 "cells": [
  {
   "cell_type": "markdown",
   "id": "02f76e55-3d57-41bb-97e4-46531fc68e3d",
   "metadata": {},
   "source": [
    "# Training a TensorFlow 2 model on an IPU using Paperspace Gradient\n",
    "\n",
    "These tutorials will show you how to use a TensorFlow 2 model and train it on a Graphcore IPU using the Paperspace Gradient environment.\n",
    "\n",
    "In this environment, you will be able to learn how to use an IPU in a Jupyter-style notebook and use it to train a Cluster-GCN model on the ArXiv text dataset. \n",
    "\n",
    "## Getting Started\n",
    "\n",
    "No user setup is required to train IPU models on Gradient.\n",
    "\n",
    "To get started, open the `get-started` folder and run `run_cluster_gcn_notebook.ipynb`.\n",
    "\n",
    "This tutorial uses the [Cluster-GCN model](https://github.com/graphcore/examples/tree/master/gnn/cluster_gcn/tensorflow2) to predict correct topic labels for papers as an example to show how TensorFlow 2 models can be trained with a local dataset on the IPU.\n",
    "\n",
    "### Other Examples\n",
    "\n",
    "More Graphcore IPU examples can be found at their [tutorials](https://github.com/graphcore/tutorials/) and [examples](https://github.com/graphcore/examples/) GitHub repositories."
   ]
  }
 ],
 "metadata": {
  "kernelspec": {
   "display_name": "Python 3",
   "language": "python",
   "name": "python3"
  },
  "language_info": {
   "codemirror_mode": {
    "name": "ipython",
    "version": 3
   },
   "file_extension": ".py",
   "mimetype": "text/x-python",
   "name": "python",
   "nbconvert_exporter": "python",
   "pygments_lexer": "ipython3",
   "version": "3.8.10"
  }
 },
 "nbformat": 4,
 "nbformat_minor": 5
}
