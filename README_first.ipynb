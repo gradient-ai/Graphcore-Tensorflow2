{
 "cells": [
  {
   "cell_type": "markdown",
   "id": "ed75570e",
   "metadata": {},
   "source": [
    "# Training TensorFlow 2 Models on an IPU using Paperspace Gradient\n",
    "\n",
    "The notebooks in this runtime are designed to help you solve the problems you face, by leveraging the power of deep learning and the speed of the Graphcore IPU. \n",
    "\n",
    "Get started by checking out our Graph Neural Network models on the IPU, and then dive deeper into IPU programming and how to create your own models by checking out our tutorials in the \"Learn how to write TF2 models on the IPU!\" section."
   ]
  },
  {
   "cell_type": "markdown",
   "id": "d36852db",
   "metadata": {},
   "source": [
    "<details><summary><big> Learn how to write TF2 models on the IPU! </summary> \n",
    "\n",
    "The [learning-TensorFlow2-on-IPU](learning-TensorFlow2-on-IPU) folder contains some extra tutorial material to help make better use of IPUs when running your TensorFlow applications. \n",
    "\n",
    "* The [Keras tutorial](learning-TensorFlow2-on-IPU/keras/demo.ipynb) shows you how to run Keras models on IPUs and make use of the features that will allow you to fully utilise the capability of the IPU.\n",
    "\n",
    "* The tutorial [Training a simple TensorFlow 2 model on MNIST](learning-TensorFlow2-on-IPU/mnist/mnist.ipynb) shows how to train a simple model using the MNIST numerical dataset on a single IPU using Keras.\n",
    "\n",
    "* TensorBoard is a visualization tool provided with TensorFlow that provides a platform to view many aspects of model training and inference at near real-time intervals. The tutorial [Using TensorBoard in TensorFlow 2](learning-TensorFlow2-on-IPU/tensorboard/demo.ipynb) demonstrates how to use TensorBoard to analyse your application running on the IPU\n",
    "\n",
    "    \n",
    "</details>\n",
    "    "
   ]
  },
  {
   "cell_type": "markdown",
   "id": "f951f03d",
   "metadata": {},
   "source": [
    "<details><summary><big> Train and run inference on our OGB Model</summary>\n",
    "    \n",
    "The training notebook,\n",
    "[Training for Molecular Property Prediction](ogb-competition/gps++_training.ipynb),\n",
    "demonstrates how to run training for the GPS++ model architecture we used for our OGB-LSC PCQM4Mv2 submission.\n",
    "With this model taking first place in the [Open Graph Benchmark Large-Scale Challenge](https://ogb.stanford.edu/neurips2022/).\n",
    "    \n",
    "The inference notebook, \n",
    "[Prediction of molecular properties using GPS++ on IPUs](ogb-competition/gps++_inference.ipynb),\n",
    "demonstrates inference on a single sample and on the entire test-challenge dataset split using the model we used for our OGB-LSC PCQM4Mv2 submission.\n",
    "    \n",
    "</details>\n"
   ]
  },
  {
   "cell_type": "markdown",
   "id": "142d63e3",
   "metadata": {},
   "source": [
    "<details><summary><big> Train the Cluster-GCN model </summary> \n",
    "\n",
    "\n",
    "This tutorial walks you through loading the data, configuring the IPU, creating a strategy and the model, and finally training and testing the model.\n",
    "    \n",
    "The [Training Large Graphs Efficiently with Cluster-GCN](gnn-cluster-gcn/run_cluster_gcn_notebook.ipynb) notebook show how to train the Cluster-GCN algorithm, presented in [Cluster-GCN: An Efficient Algorithm for Training Deep and Large Graph Convolutional Networks](https://arxiv.org/pdf/1905.07953.pdf), on the Graphcore IPU.\n",
    "\n",
    "    \n",
    "</details>"
   ]
  }
 ],
 "metadata": {
  "kernelspec": {
   "display_name": "Python 3 (ipykernel)",
   "language": "python",
   "name": "python3"
  },
  "language_info": {
   "codemirror_mode": {
    "name": "ipython",
    "version": 3
   },
   "file_extension": ".py",
   "mimetype": "text/x-python",
   "name": "python",
   "nbconvert_exporter": "python",
   "pygments_lexer": "ipython3",
   "version": "3.8.10"
  }
 },
 "nbformat": 4,
 "nbformat_minor": 5
}
