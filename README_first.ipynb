{
 "cells": [
  {
   "attachments": {},
   "cell_type": "markdown",
   "id": "02f76e55-3d57-41bb-97e4-46531fc68e3d",
   "metadata": {},
   "source": [
    "# Training a TensorFlow 2 Model on an IPU using Paperspace Gradient\n",
    "\n",
    "These tutorials will show you how to use a TensorFlow 2 model and train it on a Graphcore IPU using the Paperspace Gradient environment.\n",
    "\n",
    "In this environment, you will learn how to use an IPU in a Jupyter-style notebook and use it to train a Cluster-GCN model on the ArXiv text dataset. \n",
    "\n",
    "## Getting started\n",
    "\n",
    "No user setup is required to train IPU models on Gradient.\n",
    "\n",
    "To get started, open the [`get-started`](get-started) folder and run `run_cluster_gcn_notebook.ipynb`.\n",
    "\n",
    "This tutorial uses the [Cluster-GCN model](https://github.com/graphcore/examples/tree/master/gnn/cluster_gcn/tensorflow2) to predict correct topic labels for papers as an example to show how TensorFlow 2 models can be trained with a local dataset on the IPU.\n",
    "\n",
    "## Additional tutorials\n",
    "\n",
    "**NOTE:** Additional tutorial content has been taken directly from [Graphcore's existing repositories](https://github.com/graphcore/) outside of Paperspace, and may contain instructions regarding setup steps that are not needed when running on Paperspace.\n",
    "\n",
    "In particular:\n",
    "\n",
    "- A Poplar SDK is required, but it is already set up within Paperspace\n",
    "- Python does not need be run in a virtual environment, because the runtime is already an isolated environment (although `virtualenv` can still be used in principle, via the terminal)\n",
    "- Jupyter is already launched as part of a Gradient runtime when it starts up\n",
    "- SSH is not needed to connect to the runtime\n",
    "\n",
    "Setup steps that may still be needed are:\n",
    "\n",
    "- Installing additional requirements for given material, for example, `pip install -r requirements.txt`\n",
    "- Downloading of datasets\n",
    "\n",
    "Additional tutorial material within this runtime can be found at:\n",
    "\n",
    "- Python versions of notebook material, ending in `.py`\n",
    "- The [`tutorial-notebooks`](tutorial-notebooks) directory\n",
    "\n",
    "If you have any questions regarding running IPU code in Gradient, please feel free to reach out to support at support@paperspace.com.\n",
    "\n",
    "Graphcore's original and extensive online GitHub repositories for [tutorials](https://github.com/graphcore/tutorials/) and [examples](https://github.com/graphcore/examples/) are also available, and can be pointed to when starting up a Gradient runtime, under **Advanced Options**."
   ]
  }
 ],
 "metadata": {
  "kernelspec": {
   "display_name": "Python 3",
   "language": "python",
   "name": "python3"
  },
  "language_info": {
   "codemirror_mode": {
    "name": "ipython",
    "version": 3
   },
   "file_extension": ".py",
   "mimetype": "text/x-python",
   "name": "python",
   "nbconvert_exporter": "python",
   "pygments_lexer": "ipython3",
   "version": "3.8.10"
  }
 },
 "nbformat": 4,
 "nbformat_minor": 5
}
