{
 "cells": [
  {
   "cell_type": "markdown",
   "source": [
    "Copyright (c) 2022 Graphcore Ltd. All rights reserved."
   ],
   "metadata": {}
  },
  {
   "cell_type": "markdown",
   "source": [
    "Training GPS++ on IPUs\n",
    "==========\n",
    "\n",
    "This notebook demonstrates how to run training for the GPS++ model architecture we used for our OGB-LSC PCQM4Mv2 submission. \n",
    "\n",
    "The challenge is to predict the HOMO-LUMO gap [[1]](https://en.wikipedia.org/wiki/HOMO_and_LUMO) of \n",
    "organic molecules, a useful property correlated to the stability of a compound. \n",
    "Typically, such values are obtained from density functional theory (DFT) using high-performance compute (HPC) methods. These\n",
    "simulations are expensive and time consuming to run, and the objective of the challenge is to \n",
    "use machine learning to approximate the simulation and obtain results in a fraction of the time. \n",
    "\n",
    "We show here a smaller model of 11 million parameters, as opposed to the 44 million used for the top-3 result, as this will train in approximately four hours and uses only four IPUs.\n",
    "\n",
    "In the process of doing this we will see some of the additional features we generate from the original dataset and feed into the model.\n",
    "\n",
    "**Requirements:**\n",
    "\n",
    "* A Poplar SDK environment enabled (see the [Getting Started](https://docs.graphcore.ai/en/latest/getting-started.html) guide for your IPU system or take a look at this projects README).\n",
    "* Python packages installed with `pip install -r requirements.txt`\n",
    "\n",
    "**Troubleshooting:**\n",
    "\n",
    "* If you see an `Unexpected error` when starting the machine, refresh the page and try again."
   ],
   "metadata": {}
  },
  {
   "cell_type": "code",
   "execution_count": null,
   "source": [
    "%pip -q install -r requirements.txt"
   ],
   "outputs": [],
   "metadata": {}
  },
  {
   "cell_type": "markdown",
   "source": [
    "This example requires building a few things:\n",
    "\n",
    "- An optimised method to get the path lengths of a graph\n",
    "- IPU-optimised grouped gather/scatter operations"
   ],
   "metadata": {}
  },
  {
   "cell_type": "code",
   "execution_count": null,
   "source": [
    "import os\n",
    "code_directory = os.getenv(\"OGB_SUBMISSION_CODE\", \".\")\n",
    "! cd {code_directory} && make -C data_utils/feature_generation\n",
    "! cd {code_directory} && make -C static_ops"
   ],
   "outputs": [],
   "metadata": {}
  },
  {
   "cell_type": "code",
   "execution_count": null,
   "source": [
    "%matplotlib inline\n",
    "# Need notebook utils as first import as it modifies the path\n",
    "import notebook_utils\n",
    "\n",
    "import yaml\n",
    "from pathlib import Path\n",
    "\n",
    "import matplotlib.pyplot as plt\n",
    "import numpy as np\n",
    "from IPython.display import Image\n",
    "from matplotlib import rcParams\n",
    "from rdkit import Chem\n",
    "from rdkit.Chem import Draw\n",
    "from rdkit.Chem.Draw import IPythonConsole\n",
    "\n",
    "\n",
    "from argparser import parse_dict\n",
    "from data_utils.load_dataset import load_raw_dataset\n",
    "from data_utils.preprocess_dataset import preprocess_dataset\n",
    "from notebook_utils import predict, train\n",
    "import os\n",
    "from ogb.lsc import PCQM4Mv2Evaluator\n",
    "from inference import format_predictions\n",
    "\n",
    "import logging\n",
    "import wandb\n",
    "\n",
    "logging.basicConfig(level=\"INFO\")\n",
    "rcParams['xtick.labelsize'] = 10\n",
    "rcParams['ytick.labelsize'] = 10\n",
    "rcParams['axes.labelsize'] = 14\n",
    "IPythonConsole.drawOptions.addAtomIndices = False\n",
    "IPythonConsole.drawOptions.addStereoAnnotation = True"
   ],
   "outputs": [],
   "metadata": {}
  },
  {
   "cell_type": "markdown",
   "source": [
    "### Weights & Biases logging\n",
    "\n",
    "We use `wandb` to log training metrics, and manage training runs. \n",
    "This notebook will default to using wandb offline. To use their online tracking uncomment the following two lines, and remove the `!wandb offline` line."
   ],
   "metadata": {}
  },
  {
   "cell_type": "code",
   "execution_count": null,
   "source": [
    "# Uncomment these two lines if you want to log to wandb online\n",
    "# !wandb login $YOUR_WANDB_API_KEY\n",
    "# !wandb online\n",
    "\n",
    "# If running without a wandb login leave this line, remove if you want to log online\n",
    "!wandb offline"
   ],
   "outputs": [],
   "metadata": {}
  },
  {
   "cell_type": "markdown",
   "source": [
    "If running on Paperspace we will run some additional configuration steps below. If you aren't running on Paperspace, ensure you have the following environment variables set: `DATASET_DIR` — location of the dataset, `CHECKPOINT_DIR` — location of any checkpoints, and `POPLAR_EXECUTABLE_CACHE_DIR` — location of any Poplar executable caches. Or you can update the paths manually in the two cells below.\n"
   ],
   "metadata": {}
  },
  {
   "cell_type": "code",
   "execution_count": null,
   "source": [
    "checkpoint_directory = os.getenv(\"OGB_CHECKPOINT_DIR\", \".\")\n",
    "dataset_directory = os.getenv(\"OGB_DATASET_DIR\", \".\")\n",
    "code_directory = Path(os.getenv(\"OGB_SUBMISSION_CODE\", \".\"))"
   ],
   "outputs": [],
   "metadata": {}
  },
  {
   "cell_type": "markdown",
   "source": [
    "Let's also set a few things to enable us to use the executable caches, saving us from recompiling the model."
   ],
   "metadata": {}
  },
  {
   "cell_type": "code",
   "execution_count": null,
   "source": [
    "executable_cache_dir = os.getenv(\"POPLAR_EXECUTABLE_CACHE_DIR\", \".\")\n",
    "os.environ[\"TF_POPLAR_FLAGS\"] = f\"--executable_cache_path='{executable_cache_dir}'\""
   ],
   "outputs": [],
   "metadata": {}
  },
  {
   "cell_type": "markdown",
   "source": [
    "### Loading a configuration\n",
    "\n",
    "For this example, we will use the `GPS_PCQ_4gps_11M.yaml` configuration in the `configs` directory."
   ],
   "metadata": {}
  },
  {
   "cell_type": "code",
   "execution_count": null,
   "source": [
    "# Choose model\n",
    "model_name = \"GPS_4layer\" \n",
    "\n",
    "# Set configs\n",
    "model_dict = {\"GPS_4layer\": \"GPS_PCQ_4gps_11M.yaml\"}\n",
    "cfg_path = code_directory / \"configs\" /model_dict[model_name]\n",
    "cfg_yaml = yaml.safe_load(cfg_path.read_text())\n",
    "cfg = parse_dict(cfg_yaml)\n",
    "\n",
    "# Set the checkpoint path for the corresponding config\n",
    "sub_directory = model_dict[model_name].split(\".\")[0]\n",
    "checkpoint_path = Path(checkpoint_directory).joinpath(f\"checkpoints/{sub_directory}/model-FINAL\")\n",
    "\n",
    "# Turn off dataset caching for this notebook\n",
    "cfg.dataset.save_to_cache = False \n",
    "cfg.dataset.load_from_cache = True \n",
    "cfg.dataset.cache_path = dataset_directory\n",
    "\n",
    "# wandb setup from configuration file\n",
    "if cfg.wandb:\n",
    "    os.environ[\"WANDB_NOTEBOOK_NAME\"] = \"notebook_training.ipynb\"\n",
    "    wandb.init(entity=cfg.wandb_entity, project=cfg.wandb_project, config=cfg.as_dict())"
   ],
   "outputs": [],
   "metadata": {}
  },
  {
   "cell_type": "markdown",
   "source": [
    "### Predicting the HOMO-LUMO gap of molecules in the PCQM4Mv2 Dataset\n",
    "\n",
    "First, we need to load the raw dataset. This ontains SMILE strings [[2]](https://en.wikipedia.org/wiki/Simplified_molecular-input_line-entry_system)\n",
    "and the HOMO-LUMO gap calculated with DFT. \n",
    "\n"
   ],
   "metadata": {}
  },
  {
   "cell_type": "code",
   "execution_count": null,
   "source": [
    "print(f\"Dataset: {cfg.dataset.dataset_name}\")\n",
    "split_mode = \"original\"\n",
    "graph_data = load_raw_dataset(cfg.dataset.dataset_name,\n",
    "                              dataset_directory,\n",
    "                              cfg)"
   ],
   "outputs": [],
   "metadata": {}
  },
  {
   "cell_type": "code",
   "execution_count": null,
   "source": [
    "smiles_df = graph_data.dataset.load_smile_strings()"
   ],
   "outputs": [],
   "metadata": {}
  },
  {
   "cell_type": "markdown",
   "source": [
    "Before processing the dataset let's look at some example molecules. \\\n",
    "We take a random index of the dataset, get the smile string, and plot the molecule.\n",
    "\n",
    "\n",
    "**Feel free to run the following block multiple times to see different example molecules.**"
   ],
   "metadata": {}
  },
  {
   "cell_type": "code",
   "execution_count": null,
   "source": [
    "# Take a random index from the train dataset split\n",
    "r_idx = np.random.choice(graph_data.dataset.get_idx_split()[\"train\"], 8)\n",
    "# Extract SMILES, RDKit molecular objects, ground_truth labels, and predictions for these molecules\n",
    "Smiles = [smiles_df[0][r] for r in r_idx]\n",
    "GT = [smiles_df[1][r] for r in r_idx]\n",
    "Mols = [Chem.MolFromSmiles(r) for r in Smiles]\n",
    "\n",
    "# Create labels\n",
    "labelList = [f\"HOMO-LUMO: \" + str('%.3f' %gt) + \" eV\" for gt in zip(GT)]\n",
    "# Display molecules with labels\n",
    "Draw.MolsToGridImage(Mols,molsPerRow=4,legends=[label for label in labelList],\n",
    "                    subImgSize=(250,250), useSVG=False)"
   ],
   "outputs": [],
   "metadata": {}
  },
  {
   "cell_type": "markdown",
   "source": [
    "Next we need to preprocess the dataset. This is time consuming, so instead we will load an already preprocessed dataset from the cache.\n",
    "\n",
    "Note that if you want to play around with changing the dataset features this will take longer!"
   ],
   "metadata": {}
  },
  {
   "cell_type": "code",
   "execution_count": null,
   "source": [
    "# With the cache this step should take ~ 5 minutes\n",
    "graph_preprocessed = preprocess_dataset(dataset=graph_data,\n",
    "                                        options=cfg)"
   ],
   "outputs": [],
   "metadata": {}
  },
  {
   "cell_type": "markdown",
   "source": [
    "### Model architecture \n",
    "\n"
   ],
   "metadata": {}
  },
  {
   "cell_type": "markdown",
   "source": [
    "The GPS++ model is a hybrid message passing neural network and transformer, which builds on the previous work of the general, powerful, scalable (GPS) framework [3](https://arxiv.org/abs/2205.12454).\n",
    "\n",
    "The key advantage of this architecture is that by combining the large and expressive message-passing module with a biased self-attention layer local inductive biases can be exploited while still allowing efficient global communication. \n",
    "\n",
    "Additionaly, we incorporate grouped input masking, and use the available 3D information as an auxiliary denoising objective during training. \n",
    "\n",
    "The GPS layers compose the majority (> 99%) of the model parameters. Below is a diagram showing how the MPNN and self-attention modules interact with each other.\n",
    "\n",
    "For further details on the architecture and training process look at our paper [GPS++: An Optimised Hybrid MPNN/Transformer for Molecular Property Prediction](https://ogb.stanford.edu/paper/neurips2022/pcqm4mv2_WeLoveGraphs.pdf)."
   ],
   "metadata": {}
  },
  {
   "cell_type": "markdown",
   "source": [
    "Here you can see the main GPS++ processing block showing global, edge and node features, as well as attention biases passing through each GPS layer.\n",
    "\n",
    "![GPS++ processing block](pcqm4mv2_submission/OGB_paper_diagram.png)\n",
    "\n"
   ],
   "metadata": {}
  },
  {
   "cell_type": "code",
   "execution_count": null,
   "source": [
    "Image(code_directory / \"OGB_paper_diagram.png\", width=800)"
   ],
   "outputs": [],
   "metadata": {}
  },
  {
   "cell_type": "markdown",
   "source": [
    "## Training\n",
    "\n",
    "Now we are ready to run on the IPU. We have wrapped this functionality in a single function for simplicity. We encourage you to check the contents of this function in `notebook_utils.py`.\n",
    "\n",
    "Some key details here are:\n",
    "* The main regression loss is measured as the mean absolute error (L1 loss) between predicted and target HOMO-LUMO gaps\n",
    "* With the original dataset split we loop through the ~ 3.3M molecules in the training dataset each epoch\n",
    "* The 11 million parameter model is pipelined over four IPUs"
   ],
   "metadata": {}
  },
  {
   "cell_type": "markdown",
   "source": [
    "Now. finally, let's run the training of our GPS++ model.\n",
    "\n",
    "In the interest of time, we will set the number of training epochs to 10, which takes approximately 40 minutes. Feel free to train for more epochs. As a guide, training for the full 100 epochs takes approximately 4 hours."
   ],
   "metadata": {}
  },
  {
   "cell_type": "code",
   "execution_count": null,
   "source": [
    "cfg.model.epochs = 10\n",
    "checkpoint_paths = train(graph_preprocessed, cfg)"
   ],
   "outputs": [],
   "metadata": {}
  },
  {
   "cell_type": "markdown",
   "source": [
    "(NOTE: The notebook has been provided with the training run for 10 epochs only. If you want to run the full training this will take about 4 hours.)"
   ],
   "metadata": {}
  },
  {
   "cell_type": "markdown",
   "source": [
    "### Predictions on validation dataset split"
   ],
   "metadata": {}
  },
  {
   "cell_type": "markdown",
   "source": [
    "Now let's get predictions on the validation dataset split."
   ],
   "metadata": {}
  },
  {
   "cell_type": "code",
   "execution_count": null,
   "source": [
    "predictions, ground_truth = predict(graph_data, checkpoint_paths[\"FINAL\"], \"valid\", cfg)"
   ],
   "outputs": [],
   "metadata": {}
  },
  {
   "cell_type": "markdown",
   "source": [
    "Let's take a look at the mean, variance and histogram of the predictions."
   ],
   "metadata": {}
  },
  {
   "cell_type": "code",
   "execution_count": null,
   "source": [
    "mean = predictions.astype(float).mean()\n",
    "std = predictions.astype(float).var()\n",
    "\n",
    "bins = plt.hist(predictions, 50, alpha = 0.7, label = 'Predictions')[1]\n",
    "plt.hist(ground_truth, bins, alpha = 0.5, label = 'Ground truth')\n",
    "plt.xlabel(\"HOMO-LUMO Gap (eV)\")\n",
    "plt.ylabel(\"Counts\")\n",
    "plt.title(\"Histogram of HOMO-LUMO gap predictions\")\n",
    "plt.text(8, 8200, f'mean: {mean:.2f}, std: {std:.2f}')\n",
    "plt.show()"
   ],
   "outputs": [],
   "metadata": {}
  },
  {
   "cell_type": "markdown",
   "source": [
    "Finally we can evaluate the predicted HOMO-LUMO gaps with the ground truth values. "
   ],
   "metadata": {}
  },
  {
   "cell_type": "code",
   "execution_count": null,
   "source": [
    "\n",
    "evaluator = PCQM4Mv2Evaluator()\n",
    "formatted_predictions = format_predictions(dataset_name=cfg.dataset.dataset_name,\n",
    "                                           y_true=ground_truth,\n",
    "                                           y_pred=predictions)\n",
    "# we will use the official evaluator from the OGB repo\n",
    "result = evaluator.eval(formatted_predictions)[\"mae\"]\n",
    "print(\" \"+\"=\"*50+\"\\n\",\n",
    "      f\"\\U00002B50 Result: Validation MAE = {result:.4f}\\n\",\n",
    "      \"=\"*50+\"\\n\",\n",
    "      )"
   ],
   "outputs": [],
   "metadata": {}
  },
  {
   "cell_type": "markdown",
   "source": [
    "Note here that the MAE is still relatively high as this example only shows training for 10 epochs.\n",
    "\n",
    "The small GPS++ 11M parameter model trained for the full 100 epochs should reach an MAE of ~ 0.090 "
   ],
   "metadata": {}
  },
  {
   "cell_type": "code",
   "execution_count": null,
   "source": [
    "wandb.finish()"
   ],
   "outputs": [],
   "metadata": {}
  },
  {
   "cell_type": "markdown",
   "source": [
    "### Follow up tasks\n",
    "\n",
    "Some additional tasks to explore include:\n",
    "* Try increasing the number of epochs to train the model over to achieve a better final validation MAE\n",
    "* Try the inference notebook if you haven't already\n",
    "* Read the paper on GPS++ for further details about the implementation"
   ],
   "metadata": {}
  }
 ],
 "metadata": {
  "kernelspec": {
   "display_name": "Python 3",
   "language": "python",
   "name": "python3"
  },
  "language_info": {
   "codemirror_mode": {
    "name": "ipython",
    "version": 3
   },
   "file_extension": ".py",
   "mimetype": "text/x-python",
   "name": "python",
   "nbconvert_exporter": "python",
   "pygments_lexer": "ipython3",
   "version": "3.8.10"
  },
  "vscode": {
   "interpreter": {
    "hash": "46bde714a99d715eba7e507975e678b0968e7177d805932276a51e552e29fed0"
   }
  }
 },
 "nbformat": 4,
 "nbformat_minor": 4
}